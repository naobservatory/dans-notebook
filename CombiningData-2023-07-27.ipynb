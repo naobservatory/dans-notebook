{
 "cells": [
  {
   "cell_type": "code",
   "execution_count": 63,
   "id": "455566db",
   "metadata": {},
   "outputs": [],
   "source": [
    "def posterior_seq_only(p_eg, p_neg, p_eng, p_neng, p_s_e, p_s_ne):\n",
    "    return (p_s_e * p_eg) / (\n",
    "        p_s_e * p_eg + \n",
    "        p_s_ne * p_neg +\n",
    "        p_s_e * p_eng +\n",
    "        p_s_ne * p_neng\n",
    "    )\n",
    "\n",
    "def posterior_growth_only(p_eg, p_neg, p_eng, p_neng, p_c_g, p_c_ng):\n",
    "    return (p_c_g * p_eg) / (\n",
    "        p_c_g * p_eg + \n",
    "        p_c_g * p_neg +\n",
    "        p_c_ng * p_eng +\n",
    "        p_c_ng * p_neng\n",
    "    )\n",
    "\n",
    "def posterior_combined(p_eg, p_neg, p_eng, p_neng, p_s_e, p_s_ne, p_c_g, p_c_ng):\n",
    "    return (p_s_e * p_c_g * p_eg) / (\n",
    "        p_s_e * p_c_g * p_eg + \n",
    "        p_s_ne * p_c_g * p_neg +\n",
    "        p_s_e * p_c_ng * p_eng +\n",
    "        p_s_ne * p_c_ng * p_neng\n",
    "    )"
   ]
  },
  {
   "cell_type": "markdown",
   "id": "4abfb411",
   "metadata": {},
   "source": [
    "E = engineered\n",
    "NE = not engineered\n",
    "G = growing\n",
    "NG = not growing\n",
    "\n",
    "Data:\n",
    "S = sequence is flagged\n",
    "C = count data is flagged\n",
    "\n",
    "Want posterior Pr{E, G| S} or Pr{E, G | S, C}.\n",
    "\n",
    "Likelihood\n",
    "Pr{S, C | E, G} = Pr{S | E, G} * Pr{C | E, G}\n",
    " = Pr{S | E} * Pr{C | G}\n",
    "\n",
    "Likelihood ratios:\n",
    "Pr{S | E} / Pr{S | NE}\n",
    "Pr{C | G} / Pr{C | NG}\n",
    "\n"
   ]
  },
  {
   "cell_type": "markdown",
   "id": "4af40f3c",
   "metadata": {},
   "source": [
    "Prior"
   ]
  },
  {
   "cell_type": "code",
   "execution_count": 23,
   "id": "348373db",
   "metadata": {},
   "outputs": [],
   "source": [
    "sequences = 1e5\n",
    "threats = 0.1\n",
    "growing = 1e4\n",
    "\n",
    "p_eg = threats / sequences\n",
    "# Assumes anything engineered is growing\n",
    "p_eng = 0.0\n",
    "p_neg = (growing - threats) / sequences\n",
    "p_neng = 1 - p_eg - p_eng - p_neg"
   ]
  },
  {
   "cell_type": "markdown",
   "id": "11499a4b",
   "metadata": {},
   "source": [
    "Likelihood"
   ]
  },
  {
   "cell_type": "code",
   "execution_count": 64,
   "id": "061e3815",
   "metadata": {},
   "outputs": [
    {
     "name": "stdout",
     "output_type": "stream",
     "text": [
      "4.5\n",
      "9.0\n",
      "4.499984250055124e-06\n",
      "4.9999999999999996e-06\n",
      "2.24996062568905e-05\n"
     ]
    }
   ],
   "source": [
    "p_s_e = 0.9\n",
    "p_s_ne = 0.2\n",
    "print(p_s_e / p_s_ne)\n",
    "p_c_g = 0.90\n",
    "p_c_ng = 0.10\n",
    "print(p_c_g / p_c_ng)\n",
    "p_seq_only = posterior_seq_only(p_eg, p_neg, p_eng, p_neng, p_s_e, p_s_ne)\n",
    "p_growth_only = posterior_growth_only(p_eg, p_neg, p_eng, p_neng, p_c_g, p_c_ng)\n",
    "p_combined = posterior_combined(p_eg, p_neg, p_eng, p_neng, p_s_e, p_s_ne, p_c_g, p_c_ng)\n",
    "print(p_seq_only)\n",
    "print(p_growth_only)\n",
    "print(p_combined)"
   ]
  },
  {
   "cell_type": "code",
   "execution_count": 62,
   "id": "b85d2009",
   "metadata": {},
   "outputs": [
    {
     "data": {
      "text/plain": [
       "1.7999694005201907e-05"
      ]
     },
     "execution_count": 62,
     "metadata": {},
     "output_type": "execute_result"
    }
   ],
   "source": [
    "p_s_e = 0.9\n",
    "p_s_ne = 0.05\n",
    "posterior_seq_only(p_eg, p_neg, p_eng, p_neng, p_s_e, p_s_ne)"
   ]
  },
  {
   "cell_type": "markdown",
   "id": "7de93c99",
   "metadata": {},
   "source": [
    "## The part we're using"
   ]
  },
  {
   "cell_type": "markdown",
   "id": "09097947",
   "metadata": {},
   "source": [
    "Base rates (assume the threat is growing):"
   ]
  },
  {
   "cell_type": "code",
   "execution_count": 1,
   "id": "3347f1ec",
   "metadata": {},
   "outputs": [],
   "source": [
    "sequences = 1e6\n",
    "threats = 1\n",
    "growing = 1e4"
   ]
  },
  {
   "cell_type": "markdown",
   "id": "829dd046",
   "metadata": {},
   "source": [
    "Likelihoods of the Sequence-based test:"
   ]
  },
  {
   "cell_type": "code",
   "execution_count": 2,
   "id": "c1a9e70c",
   "metadata": {},
   "outputs": [],
   "source": [
    "# Pr{S|E}\n",
    "p_s_e = 0.99\n",
    "# Pr{S|NE}\n",
    "p_s_ne = 0.1"
   ]
  },
  {
   "cell_type": "markdown",
   "id": "aae2738b",
   "metadata": {},
   "source": [
    "False and true positives of Sequence-based test alone:"
   ]
  },
  {
   "cell_type": "code",
   "execution_count": 3,
   "id": "09fbe2e5",
   "metadata": {},
   "outputs": [
    {
     "name": "stdout",
     "output_type": "stream",
     "text": [
      "99999.90000000001\n",
      "0.99\n"
     ]
    }
   ],
   "source": [
    "# Number flagged not threats\n",
    "print(p_s_ne * (sequences - threats))\n",
    "# Number flagged that are threats\n",
    "print(p_s_e * (threats))"
   ]
  },
  {
   "cell_type": "markdown",
   "id": "e49190e2",
   "metadata": {},
   "source": [
    "Likelihoods of the Count-based test:"
   ]
  },
  {
   "cell_type": "code",
   "execution_count": 4,
   "id": "825a6ca6",
   "metadata": {},
   "outputs": [],
   "source": [
    "# Pr{C|G}\n",
    "p_c_g = 0.95\n",
    "# Pr{C|NG}\n",
    "p_c_ng = 0.05"
   ]
  },
  {
   "cell_type": "code",
   "execution_count": 5,
   "id": "769a3eeb",
   "metadata": {},
   "outputs": [
    {
     "name": "stdout",
     "output_type": "stream",
     "text": [
      "9499.05\n",
      "49500.0\n",
      "0.95\n"
     ]
    }
   ],
   "source": [
    "# Number flagged not threats\n",
    "print(p_c_g * (growing - threats))\n",
    "print(p_c_ng * (sequences - growing))\n",
    "# Number flagged that are threats\n",
    "print(p_c_g * threats)"
   ]
  },
  {
   "cell_type": "markdown",
   "id": "2504e20b",
   "metadata": {},
   "source": [
    "Combined test (assumes flagging by the two tests is independent conditional on (E, G))"
   ]
  },
  {
   "cell_type": "code",
   "execution_count": 6,
   "id": "414f161c",
   "metadata": {},
   "outputs": [
    {
     "name": "stdout",
     "output_type": "stream",
     "text": [
      "5899.905000000001\n",
      "0.9405\n"
     ]
    }
   ],
   "source": [
    "# Number flagged not threats\n",
    "print(p_s_ne * p_c_g * (growing - threats) + p_s_ne * p_c_ng * (sequences - growing))\n",
    "# Number flagged threats\n",
    "print(p_s_e * p_c_g * threats)"
   ]
  }
 ],
 "metadata": {
  "kernelspec": {
   "display_name": "Python 3 (ipykernel)",
   "language": "python",
   "name": "python3"
  },
  "language_info": {
   "codemirror_mode": {
    "name": "ipython",
    "version": 3
   },
   "file_extension": ".py",
   "mimetype": "text/x-python",
   "name": "python",
   "nbconvert_exporter": "python",
   "pygments_lexer": "ipython3",
   "version": "3.11.1"
  }
 },
 "nbformat": 4,
 "nbformat_minor": 5
}
